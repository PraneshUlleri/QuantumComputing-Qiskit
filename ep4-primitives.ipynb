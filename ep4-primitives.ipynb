{
 "cells": [
  {
   "cell_type": "markdown",
   "metadata": {},
   "source": [
    "## Ep4 Primitives\n",
    "\n"
   ]
  },
  {
   "cell_type": "markdown",
   "metadata": {},
   "source": [
    "# Traverse field lsing model to demo primitives\n",
    "\n"
   ]
  },
  {
   "cell_type": "code",
   "execution_count": 8,
   "metadata": {},
   "outputs": [],
   "source": [
    "from qiskit import QuantumCircuit\n",
    "from qiskit.circuit.library import YGate, UnitaryGate\n",
    "import numpy as np\n",
    "\n",
    "SYGate = UnitaryGate(YGate().power(1/2), label=r\"$\\sqrt{Y}$\")\n",
    "SYdgGate = UnitaryGate(SYGate.inverse(), label=r\"$\\sqrt{Y}^\\dag$\")\n",
    "\n",
    "def generate_1d_tfim_circuit(num_qubits, num_trotter_steps, rx_angle, num_cl_bits=0, trotter_barriers = False, layer_barriers = False):\n",
    "    if num_cl_bits == 0:\n",
    "        qc = QuantumCircuit(num_qubits)\n",
    "    else:\n",
    "        qc = QuantumCircuit(num_qubits, num_cl_bits)\n",
    "\n",
    "    for trotter_step in range(num_trotter_steps):\n",
    "        add_1d_tfim_trotter_layer(qc, rx_angle, layer_barriers)\n",
    "        if trotter_barriers:\n",
    "            qc.barrier()\n",
    "    \n",
    "    return qc\n",
    "\n",
    "def add_1d_tfim_trotter_layer(qc, rx_angle, layer_barriers = False):\n",
    "    # Adding Rzz in the even layers\n",
    "    for i in range(0, qc.num_qubits-1, 2):\n",
    "        qc.sdg([i, i+1])\n",
    "        qc.append(SYGate, [i+1])\n",
    "        qc.cx(i, i+1)\n",
    "        qc.append(SYdgGate, [i+1])\n",
    "    if layer_barriers:\n",
    "        qc.barrier()\n",
    "    # Adding Rzz in the odd layers\n",
    "    for i in range(1, qc.num_qubits-1, 2):\n",
    "        qc.sdg([i, i+1])\n",
    "        qc.append(SYGate, [i+1])\n",
    "        qc.cx(i, i+1)\n",
    "        qc.append(SYdgGate, [i+1])\n",
    "    if layer_barriers:\n",
    "        qc.barrier()\n",
    "    qc.rx(rx_angle, list(range(qc.num_qubits)))\n",
    "    if layer_barriers:\n",
    "        qc.barrier()"
   ]
  }
 ],
 "metadata": {
  "kernelspec": {
   "display_name": "cwq",
   "language": "python",
   "name": "python3"
  },
  "language_info": {
   "codemirror_mode": {
    "name": "ipython",
    "version": 3
   },
   "file_extension": ".py",
   "mimetype": "text/x-python",
   "name": "python",
   "nbconvert_exporter": "python",
   "pygments_lexer": "ipython3",
   "version": "3.13.5"
  }
 },
 "nbformat": 4,
 "nbformat_minor": 2
}
